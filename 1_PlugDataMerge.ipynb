{
 "cells": [
  {
   "cell_type": "code",
   "execution_count": null,
   "metadata": {},
   "outputs": [],
   "source": [
    "import pandas as pd\n",
    "import numpy as np\n",
    "import glob"
   ]
  },
  {
   "cell_type": "code",
   "execution_count": null,
   "metadata": {
    "scrolled": true
   },
   "outputs": [],
   "source": [
    "# Define path of the Appliances data of 1 household\n",
    "commonpath='/Users/Desktop/data-x-data/data/House1/01_plugs_csv/Appliance'\n",
    "pathlist=[]\n",
    "for i in range(1,8):\n",
    "    pathlist.append(commonpath+str(i))\n",
    "pathlist"
   ]
  },
  {
   "cell_type": "code",
   "execution_count": null,
   "metadata": {},
   "outputs": [],
   "source": [
    "# Define default values for missing files\n",
    "missing = [float('NaN')]*86400"
   ]
  },
  {
   "cell_type": "code",
   "execution_count": null,
   "metadata": {},
   "outputs": [],
   "source": [
    "# Generate time range\n",
    "import datetime\n",
    "from datetime import datetime\n",
    "date = list(pd.date_range(start = '6/1/2012', end='1/23/2013', freq = 'D'))\n",
    "date = [str(i)[:10] for i in date]\n",
    "date[:5]"
   ]
  },
  {
   "cell_type": "code",
   "execution_count": null,
   "metadata": {},
   "outputs": [],
   "source": [
    "# Merge all data of 1 household into a dataframe & print out the days missing data\n",
    "import os\n",
    "house1 = pd.DataFrame()\n",
    "for path in pathlist:\n",
    "    namelist = []\n",
    "    path=os.path.join(path)\n",
    "    filenames = glob.glob(path +'/*.csv')\n",
    "    filenames.sort()\n",
    "    print(len(filenames))\n",
    "    df=[]\n",
    "        \n",
    "    for filename in filenames:\n",
    "        i=filename[-14:-4]\n",
    "        namelist.append(i)\n",
    "   \n",
    "    for d in date:\n",
    "        if d in namelist:\n",
    "            filepath = os.path.join(path,d+'.csv')\n",
    "            #print('data of', i, 'is not missing')\n",
    "            getdata = pd.read_csv(filepath,names=[d])\n",
    "            l = getdata[d].tolist()                   \n",
    "            df = df+l\n",
    "        else:\n",
    "            print('data of', d ,'is missing for', path[-10:])\n",
    "            df = df + missing\n",
    "    print(len(df))\n",
    "    \n",
    "    colname = path[-10:]\n",
    "    house1[colname] = df"
   ]
  },
  {
   "cell_type": "code",
   "execution_count": null,
   "metadata": {
    "scrolled": true
   },
   "outputs": [],
   "source": [
    "house1.head()"
   ]
  },
  {
   "cell_type": "code",
   "execution_count": null,
   "metadata": {
    "scrolled": true
   },
   "outputs": [],
   "source": [
    "timestamp = list(pd.date_range(start='6/1/2012', end='1/24/2013', freq='s'))\n",
    "del timestamp[len(timestamp)-1]\n",
    "house1.index = timestamp"
   ]
  },
  {
   "cell_type": "code",
   "execution_count": null,
   "metadata": {},
   "outputs": [],
   "source": [
    "house1.rename(columns={'Appliance1':'Fridge',\\\n",
    "                                'Appliance2':'Dryer',\\\n",
    "                                'Appliance3':'Coffee machine',\\\n",
    "                                'Appliance4':'Kettle',\\\n",
    "                                'Appliance5':'Washing machine',\\\n",
    "                                'Appliance6':'PC',\\\n",
    "                                'Appliance7':'Freezer'}, inplace=True)"
   ]
  },
  {
   "cell_type": "code",
   "execution_count": null,
   "metadata": {
    "scrolled": true
   },
   "outputs": [],
   "source": [
    "house1.tail()"
   ]
  },
  {
   "cell_type": "code",
   "execution_count": null,
   "metadata": {},
   "outputs": [],
   "source": [
    "# Filter anomalous data and replace with NaN values\n",
    "house1.replace(to_replace = -1, value = float('NaN'), inplace = True)"
   ]
  },
  {
   "cell_type": "code",
   "execution_count": null,
   "metadata": {},
   "outputs": [],
   "source": [
    "# Export to csv file, Note the filepath\n",
    "col = house1.columns\n",
    "house1.to_csv(path_or_buf='~/Desktop/data-x-data/ProcessedData/House1/House1_Appliances.csv', sep=',', na_rep='', float_format=None, columns=col, header=True, index=True)"
   ]
  }
 ],
 "metadata": {
  "kernelspec": {
   "display_name": "Python 3 (ipykernel)",
   "language": "python",
   "name": "python3"
  },
  "language_info": {
   "codemirror_mode": {
    "name": "ipython",
    "version": 3
   },
   "file_extension": ".py",
   "mimetype": "text/x-python",
   "name": "python",
   "nbconvert_exporter": "python",
   "pygments_lexer": "ipython3",
   "version": "3.7.3"
  }
 },
 "nbformat": 4,
 "nbformat_minor": 2
}
