{
 "cells": [
  {
   "cell_type": "code",
   "execution_count": null,
   "metadata": {},
   "outputs": [],
   "source": [
    "import pandas as pd\n",
    "import numpy as np\n",
    "import datetime\n",
    "import glob\n",
    "import os"
   ]
  },
  {
   "cell_type": "code",
   "execution_count": null,
   "metadata": {},
   "outputs": [],
   "source": [
    "# Remove warnings\n",
    "import warnings\n",
    "warnings.filterwarnings('ignore')"
   ]
  },
  {
   "cell_type": "code",
   "execution_count": null,
   "metadata": {},
   "outputs": [],
   "source": [
    "# Readin merged data\n",
    "house1 = pd.read_csv('~/Desktop/data-x-data/ProcessedData/House1/House1_Appliances.csv',index_col = 0, parse_dates = True)"
   ]
  },
  {
   "cell_type": "code",
   "execution_count": null,
   "metadata": {},
   "outputs": [],
   "source": [
    "house1.head(1)"
   ]
  },
  {
   "cell_type": "code",
   "execution_count": null,
   "metadata": {},
   "outputs": [],
   "source": [
    "# Get DayOfWeek & Month\n",
    "DayOfWeek = house1.index.weekday\n",
    "month = house1.index.month\n",
    "house1['DayOfWeek'] = DayOfWeek\n",
    "house1['Month'] = month"
   ]
  },
  {
   "cell_type": "code",
   "execution_count": null,
   "metadata": {},
   "outputs": [],
   "source": [
    "# Define function to add Day Of Week to data in one-hot-encoding form\n",
    "def DayOfWeek_one_hot_encoding(df):\n",
    "    DayOfWeek = df.index.weekday\n",
    "    df['DayOfWeek'] = DayOfWeek\n",
    "    df = df.join(pd.get_dummies(df['DayOfWeek']))\n",
    "    df.rename(columns={0:'Monday',\\\n",
    "                       1:'Tuesday',\\\n",
    "                       2:'Wednesday',\\\n",
    "                        3:'Thursday',\\\n",
    "                        4:'Friday',\\\n",
    "                        5:'Saturday',\\\n",
    "                        6:'Sunday',\\\n",
    "                        }, inplace=True)\n",
    "\n",
    "    return df"
   ]
  },
  {
   "cell_type": "code",
   "execution_count": null,
   "metadata": {},
   "outputs": [],
   "source": [
    "# Define function to add Month to data in one-hot-encoding form\n",
    "def Month_one_hot_encoding(df):\n",
    "    month = df.index.month\n",
    "    df['Month'] = month\n",
    "    df = df.join(pd.get_dummies(df['Month']))\n",
    "    df.rename(columns={1:'Jan',\\\n",
    "                       2:'Feb',\\\n",
    "                       3:'Mar',\\\n",
    "                       4:'Apr',\\\n",
    "                        5:'May',\\\n",
    "                        6:'Jun',\\\n",
    "                        7:'Jul',\\\n",
    "                        8:'Aug',\\\n",
    "                        9:'Sep',\\\n",
    "                       10:'Oct',\\\n",
    "                       11:'Nov',\\\n",
    "                       12:'Dec'}                       \n",
    "                        , inplace=True)\n",
    "    return df"
   ]
  },
  {
   "cell_type": "code",
   "execution_count": null,
   "metadata": {},
   "outputs": [],
   "source": [
    "# Define function to find monthly day-of-week average consumption for given appliance \n",
    "# in frequency of 1 second\n",
    "def find_monthly_averge(df,ApplianceName):\n",
    "    Average = np.zeros([7,13,86400])\n",
    "    for i in range(7):\n",
    "        for j in list(df.Month.unique()):\n",
    "            avg = pd.DataFrame()\n",
    "            values = df.loc[((df['DayOfWeek']==i) & (df['Month']==j))][ApplianceName].reset_index()[ApplianceName].values\n",
    "            if len(values) == 86400*3:\n",
    "                avg = pd.DataFrame({'firstweek':values[:86400], 'secondweek':values[86400:86400*2],\\\n",
    "                               'thirdweek':values[86400*2:86400*3]})\n",
    "            if len(values) == 86400*4:\n",
    "                avg = pd.DataFrame({'firstweek':values[:86400], 'secondweek':values[86400:86400*2],\\\n",
    "                               'thirdweek':values[86400*2:86400*3], 'fourthweek':values[86400*3:86400*4]})\n",
    "            if len(values) == 86400*5:\n",
    "                avg = pd.DataFrame({'firstweek':values[:86400], 'secondweek':values[86400:86400*2],\\\n",
    "                               'thirdweek':values[86400*2:86400*3], 'fourthweek':values[86400*3:86400*4],\\\n",
    "                               'fifthweek':values[86400*4:86400*5]})\n",
    "            Average[i,j] = avg.mean(axis=1)\n",
    "    return Average"
   ]
  },
  {
   "cell_type": "code",
   "execution_count": null,
   "metadata": {},
   "outputs": [],
   "source": [
    "# Define function to assign monthly average value to a column in data\n",
    "def assign_monthly_average(df,ApplianceName,Value):\n",
    "    colname = ApplianceName+'MonthlyAvg'\n",
    "    df[colname] = 0\n",
    "    for i in range(7): \n",
    "        for j in list(df.Month.unique()): \n",
    "            mask = (df['DayOfWeek']==i) & (df['Month']==j)\n",
    "            #n = (df[colname].loc[((df['DayOfWeek']==i) & (df['Month']==j))].shape[0] // 86400)\n",
    "            n = (mask.sum())//86400\n",
    "            l = list(Value[i,j])*n\n",
    "            #df[colname].loc[((df['DayOfWeek']==i) & (df['Month']==j))] = l\n",
    "            df[colname].loc[mask] =l\n",
    "    return df"
   ]
  },
  {
   "cell_type": "code",
   "execution_count": null,
   "metadata": {},
   "outputs": [],
   "source": [
    "# Define function to fill NaN value with average of the same day-of-week in the particular\n",
    "# month for that timing \n",
    "def fill_missing_value(df,ApplianceName):\n",
    "    colname = ApplianceName+'MonthlyAvg'\n",
    "    df[ApplianceName].loc[df[ApplianceName].isnull()] = df[colname]\n",
    "    return df"
   ]
  },
  {
   "cell_type": "code",
   "execution_count": null,
   "metadata": {},
   "outputs": [],
   "source": [
    "# Define function to fill All NaN value in the dataframe with average of the same day-of-week \n",
    "# in the particular month for that timing \n",
    "def fill_All_missing_value(df,colnames):\n",
    "    for colname in colnames:\n",
    "        Average = find_monthly_averge(df,colname)\n",
    "        assign_monthly_average(df,colname,Average)\n",
    "        fill_missing_value(df,colname)\n",
    "    return df"
   ]
  },
  {
   "cell_type": "code",
   "execution_count": null,
   "metadata": {},
   "outputs": [],
   "source": [
    "# One-Hot-Encode DayOfWeek & Month\n",
    "#house1 = DayOfWeek_one_hot_encoding(house1)\n",
    "#house1 = Month_one_hot_encoding(house1)"
   ]
  },
  {
   "cell_type": "code",
   "execution_count": null,
   "metadata": {},
   "outputs": [],
   "source": [
    "# Check Month & Day Of Week in data\n",
    "#print(house1.Month.unique())\n",
    "#print(house1.DayOfWeek.unique())"
   ]
  },
  {
   "cell_type": "code",
   "execution_count": null,
   "metadata": {
    "scrolled": true
   },
   "outputs": [],
   "source": [
    "# Get list containing all appliances\n",
    "Appliances = house1.columns[:7].tolist()\n",
    "Appliances"
   ]
  },
  {
   "cell_type": "code",
   "execution_count": null,
   "metadata": {
    "scrolled": false
   },
   "outputs": [],
   "source": [
    "house1_1s = fill_All_missing_value(house1,Appliances)"
   ]
  },
  {
   "cell_type": "code",
   "execution_count": null,
   "metadata": {},
   "outputs": [],
   "source": [
    "house1_1s.head()"
   ]
  },
  {
   "cell_type": "code",
   "execution_count": null,
   "metadata": {},
   "outputs": [],
   "source": [
    "house1_1s['Total'] = house1_1s.iloc[:,0:7].sum(axis = 1)\n",
    "house1_appliances = house1_1s[Appliances]\n",
    "house1_appliances['Total'] = house1_1s['Total']"
   ]
  },
  {
   "cell_type": "code",
   "execution_count": null,
   "metadata": {},
   "outputs": [],
   "source": [
    "house1_appliances.head()"
   ]
  },
  {
   "cell_type": "code",
   "execution_count": null,
   "metadata": {},
   "outputs": [],
   "source": [
    "# Resampling: transform into other frequencies\n",
    "house1_30s = house1_appliances.resample('30S').sum() #30 seconds\n",
    "house1_1m = house1_appliances.resample('60S').sum() #1 minute\n",
    "house1_1h = house1_appliances.resample('1h').sum() #1 hour\n",
    "house1_1d = house1_appliances.resample('1d').sum() #1 day"
   ]
  },
  {
   "cell_type": "code",
   "execution_count": null,
   "metadata": {},
   "outputs": [],
   "source": [
    "# Export to csv file, Note the filepath\n",
    "col = house1_30s.columns\n",
    "# house1_1s.to_csv(path_or_buf='~/Desktop/data-x-data/ProcessedData/House1/House1_1s.csv', sep=',', na_rep='', float_format=None, columns=col, header=True, index=True)\n",
    "# house1_30s.to_csv(path_or_buf='~/Desktop/data-x-data/ProcessedData/House1/House1_30s.csv', sep=',', na_rep='', float_format=None, columns=col, header=True, index=True)\n",
    "# house1_1m.to_csv(path_or_buf='~/Desktop/data-x-data/ProcessedData/House1/House1_1m.csv', sep=',', na_rep='', float_format=None, columns=col, header=True, index=True)\n",
    "house1_1h.to_csv(path_or_buf='~/Desktop/data-x-data/ProcessedData/House1/House1_1h.csv', sep=',', na_rep='', float_format=None, columns=col, header=True, index=True)\n",
    "house1_1d.to_csv(path_or_buf='~/Desktop/data-x-data/ProcessedData/House1/House1_1d.csv', sep=',', na_rep='', float_format=None, columns=col, header=True, index=True)"
   ]
  },
  {
   "cell_type": "code",
   "execution_count": null,
   "metadata": {},
   "outputs": [],
   "source": []
  }
 ],
 "metadata": {
  "kernelspec": {
   "display_name": "Python 3 (ipykernel)",
   "language": "python",
   "name": "python3"
  },
  "language_info": {
   "codemirror_mode": {
    "name": "ipython",
    "version": 3
   },
   "file_extension": ".py",
   "mimetype": "text/x-python",
   "name": "python",
   "nbconvert_exporter": "python",
   "pygments_lexer": "ipython3",
   "version": "3.7.3"
  }
 },
 "nbformat": 4,
 "nbformat_minor": 2
}
